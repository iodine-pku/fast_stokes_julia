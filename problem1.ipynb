{
 "cells": [
  {
   "cell_type": "code",
   "execution_count": 1,
   "metadata": {},
   "outputs": [
    {
     "data": {
      "text/plain": [
       "6-element Vector{Int64}:\n",
       "   64\n",
       "  128\n",
       "  256\n",
       "  512\n",
       " 1024\n",
       " 2048"
      ]
     },
     "metadata": {},
     "output_type": "display_data"
    }
   ],
   "source": [
    "include(\"multigrid.jl\")\n",
    "using Plots\n",
    "using LinearAlgebra\n",
    "using BenchmarkTools\n",
    "nlist = [64, 128, 256, 512, 1024, 2048]\n"
   ]
  },
  {
   "cell_type": "markdown",
   "metadata": {},
   "source": [
    "# Run Experiment"
   ]
  },
  {
   "cell_type": "code",
   "execution_count": 2,
   "metadata": {},
   "outputs": [
    {
     "name": "stdout",
     "output_type": "stream",
     "text": [
      "Begin computation for n = 64 ... "
     ]
    },
    {
     "name": "stdout",
     "output_type": "stream",
     "text": [
      "\n",
      "V-cycle iteration 1, residual: 0.020395395375584057\n",
      "V-cycle iteration 2, residual: 0.000528887176354791\n",
      "V-cycle iteration 3, residual: 2.0079694146637416e-5\n",
      "V-cycle iteration 4, residual: 8.365365515161022e-7\n",
      "V-cycle iteration 5, residual: 3.6730903732746403e-8\n",
      "V-cycle iteration 6, residual: 1.6793573458300265e-9\n",
      "n = 64, iters = 6, error = 0.0014950782818836106. Done.\n",
      "Begin computation for n = 128 ... \n",
      "V-cycle iteration 1, residual: 0.020801565848039324\n",
      "V-cycle iteration 2, residual: 0.0004677782422892084"
     ]
    },
    {
     "name": "stdout",
     "output_type": "stream",
     "text": [
      "\n",
      "V-cycle iteration 3, residual: 1.6433564387441977e-5\n",
      "V-cycle iteration 4, residual: 7.038350285265232e-7\n",
      "V-cycle iteration 5, residual: 3.1972058900128945e-8\n",
      "V-cycle iteration 6, residual: 1.5159399843238678e-9\n",
      "n = 128, iters = 6, error = 0.00037362812782173706. Done.\n",
      "Begin computation for n = 256 ... \n",
      "V-cycle iteration 1, residual: 0.021015450598857576\n"
     ]
    },
    {
     "name": "stdout",
     "output_type": "stream",
     "text": [
      "V-cycle iteration 2, residual: 0.0004296238618766962\n",
      "V-cycle iteration 3, residual: 1.2897564827215757e-5\n",
      "V-cycle iteration 4, residual: 5.423598481140384e-7\n"
     ]
    },
    {
     "name": "stdout",
     "output_type": "stream",
     "text": [
      "V-cycle iteration 5, residual: 2.49212117593315e-8\n",
      "V-cycle iteration 6, residual: 1.205157591843938e-9\n",
      "n = 256, iters = 6, error = 9.339750802069553e-5. Done.\n",
      "Begin computation for n = 512 ... "
     ]
    },
    {
     "name": "stdout",
     "output_type": "stream",
     "text": [
      "\n",
      "V-cycle iteration 1, residual: 0.021118942205706974\n"
     ]
    },
    {
     "name": "stdout",
     "output_type": "stream",
     "text": [
      "V-cycle iteration 2, residual: 0.00041358249186899986\n"
     ]
    },
    {
     "name": "stdout",
     "output_type": "stream",
     "text": [
      "V-cycle iteration 3, residual: 1.041487435851471e-5\n"
     ]
    },
    {
     "name": "stdout",
     "output_type": "stream",
     "text": [
      "V-cycle iteration 4, residual: 4.052699787244793e-7\n"
     ]
    },
    {
     "name": "stdout",
     "output_type": "stream",
     "text": [
      "V-cycle iteration 5, residual: 1.857297911860715e-8\n"
     ]
    },
    {
     "name": "stdout",
     "output_type": "stream",
     "text": [
      "V-cycle iteration 6, residual: 9.068798789732178e-10\n",
      "n = 512, iters = 6, error = 2.3348094292138517e-5. Done.\n",
      "Begin computation for n = 1024 ... \n"
     ]
    },
    {
     "name": "stdout",
     "output_type": "stream",
     "text": [
      "V-cycle iteration 1, residual: 0.021164971859541772\n"
     ]
    },
    {
     "name": "stdout",
     "output_type": "stream",
     "text": [
      "V-cycle iteration 2, residual: 0.0004090394035348462\n"
     ]
    },
    {
     "name": "stdout",
     "output_type": "stream",
     "text": [
      "V-cycle iteration 3, residual: 9.014747066896088e-6\n"
     ]
    },
    {
     "name": "stdout",
     "output_type": "stream",
     "text": [
      "V-cycle iteration 4, residual: 3.045684148297896e-7\n"
     ]
    },
    {
     "name": "stdout",
     "output_type": "stream",
     "text": [
      "V-cycle iteration 5, residual: 1.3608272860061216e-8\n"
     ]
    },
    {
     "name": "stdout",
     "output_type": "stream",
     "text": [
      "V-cycle iteration 6, residual: 6.632640132065782e-10\n",
      "n = 1024, iters = 6, error = 5.836256896961707e-6. Done.\n",
      "Begin computation for n = 2048 ... \n"
     ]
    },
    {
     "name": "stdout",
     "output_type": "stream",
     "text": [
      "V-cycle iteration 1, residual: 0.02118438869890751\n"
     ]
    },
    {
     "name": "stdout",
     "output_type": "stream",
     "text": [
      "V-cycle iteration 2, residual: 0.000408886315691082\n"
     ]
    },
    {
     "name": "stdout",
     "output_type": "stream",
     "text": [
      "V-cycle iteration 3, residual: 8.38229256609756e-6\n"
     ]
    },
    {
     "name": "stdout",
     "output_type": "stream",
     "text": [
      "V-cycle iteration 4, residual: 2.3813587544117918e-7\n"
     ]
    },
    {
     "name": "stdout",
     "output_type": "stream",
     "text": [
      "V-cycle iteration 5, residual: 9.952598063896643e-9\n"
     ]
    },
    {
     "name": "stdout",
     "output_type": "stream",
     "text": [
      "n = 2048, iters = 5, error = 1.432055045218045e-6. Done.\n"
     ]
    }
   ],
   "source": [
    "errlist = zeros(length(nlist))\n",
    "iterlist = zeros(length(nlist))\n",
    "ct = 1\n",
    "for n in nlist\n",
    "    println(\"Begin computation for n = $n ... \")\n",
    "    pde_er, u, v, p, iters = vcycle_stokes(n,3,3,1e-8,10,false)\n",
    "    errlist[ct] = pde_er\n",
    "    iterlist[ct] = iters\n",
    "    println(\"n = $n, iters = $iters, error = $pde_er. Done.\")\n",
    "    ct += 1\n",
    "end"
   ]
  },
  {
   "cell_type": "code",
   "execution_count": 3,
   "metadata": {},
   "outputs": [
    {
     "name": "stdout",
     "output_type": "stream",
     "text": [
      "[0.0014950782818836106, 0.00037362812782173706, 9.339750802069553e-5, 2.3348094292138517e-5, 5.836256896961707e-6, 1.432055045218045e-6]\n",
      "[6.0, 6.0, 6.0, 6.0, 6.0, 5.0]\n"
     ]
    }
   ],
   "source": [
    "println(errlist)\n",
    "println(iterlist)"
   ]
  },
  {
   "cell_type": "code",
   "execution_count": 6,
   "metadata": {},
   "outputs": [
    {
     "data": {
      "text/plain": [
       "empirical_coverge_order (generic function with 1 method)"
      ]
     },
     "metadata": {},
     "output_type": "display_data"
    }
   ],
   "source": [
    "function empirical_coverge_order(errlist)\n",
    "    # Check if the errlist has fewer than 2 elements\n",
    "    if length(errlist) < 2\n",
    "        error(\"errlist must contain at least two elements\")\n",
    "    end\n",
    "\n",
    "    ratios = Float64[] # Initialize an empty array for ratios\n",
    "    for i in 1:length(errlist)-1\n",
    "        push!(ratios, errlist[i] / errlist[i+1])\n",
    "    end\n",
    "\n",
    "    rmean = mean(ratios) # Calculate mean of ratios\n",
    "    log2_rmean = log2(rmean) # Calculate base-2 logarithm of the mean\n",
    "\n",
    "    return log2_rmean\n",
    "end"
   ]
  },
  {
   "cell_type": "code",
   "execution_count": 7,
   "metadata": {},
   "outputs": [
    {
     "data": {
      "text/plain": [
       "2.0056234064018983"
      ]
     },
     "metadata": {},
     "output_type": "display_data"
    }
   ],
   "source": [
    "empirical_coverge_order(errlist)"
   ]
  },
  {
   "cell_type": "code",
   "execution_count": 3,
   "metadata": {},
   "outputs": [
    {
     "data": {
      "text/plain": [
       "\"d:\\\\numerical_linear_algebra\\\\final\\\\vcycle_dgs.pdf\""
      ]
     },
     "metadata": {},
     "output_type": "display_data"
    }
   ],
   "source": [
    "xticks = [64, 128, 256, 512, 1024, 2048]\n",
    "ymin = errlist[1]\n",
    "ymax = errlist[end]\n",
    "\n",
    "scatter(nlist, errlist, label=\"error\", xlabel=\"n\", ylabel=\"error\", title=\"error vs n (vcycle-dgs)\", xscale=:log2, yscale=:log10, grid=true, markersize=4, xticks=xticks)\n",
    "plot!(nlist, errlist, label=\"\", xlabel=\"n\", ylabel=\"error\", xscale=:log2, yscale=:log10, grid=true, linewidth=2, xticks=xticks)\n",
    "savefig(\"vcycle_dgs.pdf\")"
   ]
  },
  {
   "cell_type": "markdown",
   "metadata": {},
   "source": [
    "# Benchmark"
   ]
  },
  {
   "cell_type": "markdown",
   "metadata": {},
   "source": [
    "## v1=3 v2=3"
   ]
  },
  {
   "cell_type": "code",
   "execution_count": 9,
   "metadata": {},
   "outputs": [
    {
     "name": "stdout",
     "output_type": "stream",
     "text": [
      "Benchmarking for n = 64..."
     ]
    },
    {
     "name": "stdout",
     "output_type": "stream",
     "text": [
      "\n",
      "  7.914 ms (3551 allocations: 19.42 MiB)\n",
      "=====================================\n",
      "Benchmarking for n = 128..."
     ]
    },
    {
     "name": "stdout",
     "output_type": "stream",
     "text": [
      "\n",
      "  41.297 ms (4415 allocations: 77.49 MiB)\n",
      "=====================================\n",
      "Benchmarking for n = 256..."
     ]
    },
    {
     "name": "stdout",
     "output_type": "stream",
     "text": [
      "\n",
      "  214.778 ms (5279 allocations: 310.42 MiB)\n",
      "=====================================\n",
      "Benchmarking for n = 512..."
     ]
    },
    {
     "name": "stdout",
     "output_type": "stream",
     "text": [
      "\n",
      "  1.657 s (6144 allocations: 1.21 GiB)\n",
      "=====================================\n",
      "Benchmarking for n = 1024..."
     ]
    },
    {
     "name": "stdout",
     "output_type": "stream",
     "text": [
      "\n",
      "  8.809 s (7008 allocations: 4.86 GiB)\n",
      "=====================================\n",
      "Benchmarking for n = 2048..."
     ]
    },
    {
     "name": "stdout",
     "output_type": "stream",
     "text": [
      "\n",
      "  30.253 s (6566 allocations: 16.30 GiB)\n",
      "=====================================\n"
     ]
    }
   ],
   "source": [
    "using BenchmarkTools\n",
    "v1 = 3\n",
    "v2 = 3\n",
    "for n in nlist\n",
    "    println(\"Benchmarking for n = $n...\")\n",
    "    @btime vcycle_stokes($n,v1,v2,1e-8,10,true)\n",
    "    println(\"=====================================\")\n",
    "end"
   ]
  },
  {
   "cell_type": "code",
   "execution_count": 5,
   "metadata": {},
   "outputs": [
    {
     "name": "stdout",
     "output_type": "stream",
     "text": [
      "n = 64, iters = 6\n"
     ]
    },
    {
     "name": "stdout",
     "output_type": "stream",
     "text": [
      "n = 128, iters = 6\n"
     ]
    },
    {
     "name": "stdout",
     "output_type": "stream",
     "text": [
      "n = 256, iters = 6\n"
     ]
    },
    {
     "name": "stdout",
     "output_type": "stream",
     "text": [
      "n = 512, iters = 6\n"
     ]
    },
    {
     "name": "stdout",
     "output_type": "stream",
     "text": [
      "n = 1024, iters = 6\n"
     ]
    },
    {
     "name": "stdout",
     "output_type": "stream",
     "text": [
      "n = 2048, iters = 5\n"
     ]
    }
   ],
   "source": [
    "for n in nlist\n",
    "    x, xx, xxx , xxxx, iters = vcycle_stokes(n,3,3,1e-8,10,true)\n",
    "    println(\"n = $n, iters = $iters\")\n",
    "end"
   ]
  },
  {
   "cell_type": "markdown",
   "metadata": {},
   "source": [
    "## v1=2 v2=2"
   ]
  },
  {
   "cell_type": "code",
   "execution_count": 4,
   "metadata": {},
   "outputs": [
    {
     "name": "stdout",
     "output_type": "stream",
     "text": [
      "n = 64, iters = 7\n",
      "n = 128, iters = 7"
     ]
    },
    {
     "name": "stdout",
     "output_type": "stream",
     "text": [
      "\n",
      "n = 256, iters = 7\n"
     ]
    },
    {
     "name": "stdout",
     "output_type": "stream",
     "text": [
      "n = 512, iters = 7\n"
     ]
    },
    {
     "name": "stdout",
     "output_type": "stream",
     "text": [
      "n = 1024, iters = 7\n"
     ]
    },
    {
     "name": "stdout",
     "output_type": "stream",
     "text": [
      "n = 2048, iters = 6\n"
     ]
    }
   ],
   "source": [
    "for n in nlist\n",
    "    x, xx, xxx , xxxx, iters = vcycle_stokes(n,2,2,1e-8,10,true)\n",
    "    println(\"n = $n, iters = $iters\")\n",
    "end"
   ]
  },
  {
   "cell_type": "code",
   "execution_count": 10,
   "metadata": {},
   "outputs": [
    {
     "name": "stdout",
     "output_type": "stream",
     "text": [
      "Benchmarking for n = 64...\n"
     ]
    },
    {
     "name": "stdout",
     "output_type": "stream",
     "text": [
      "  7.265 ms (3857 allocations: 20.28 MiB)\n",
      "=====================================\n",
      "Benchmarking for n = 128..."
     ]
    },
    {
     "name": "stdout",
     "output_type": "stream",
     "text": [
      "\n",
      "  32.640 ms (4753 allocations: 80.81 MiB)\n",
      "=====================================\n",
      "Benchmarking for n = 256..."
     ]
    },
    {
     "name": "stdout",
     "output_type": "stream",
     "text": [
      "\n",
      "  185.556 ms (5649 allocations: 323.61 MiB)\n",
      "=====================================\n",
      "Benchmarking for n = 512..."
     ]
    },
    {
     "name": "stdout",
     "output_type": "stream",
     "text": [
      "\n",
      "  1.618 s (6546 allocations: 1.27 GiB)\n",
      "=====================================\n",
      "Benchmarking for n = 1024..."
     ]
    },
    {
     "name": "stdout",
     "output_type": "stream",
     "text": [
      "\n",
      "  8.072 s (7442 allocations: 5.07 GiB)\n",
      "=====================================\n",
      "Benchmarking for n = 2048..."
     ]
    },
    {
     "name": "stdout",
     "output_type": "stream",
     "text": [
      "\n",
      "  29.250 s (7152 allocations: 17.46 GiB)\n",
      "=====================================\n"
     ]
    }
   ],
   "source": [
    "using BenchmarkTools\n",
    "v1 = 2\n",
    "v2 = 2\n",
    "for n in nlist\n",
    "    println(\"Benchmarking for n = $n...\")\n",
    "    @btime vcycle_stokes($n,v1,v2,1e-8,10,true)\n",
    "    println(\"=====================================\")\n",
    "end"
   ]
  },
  {
   "cell_type": "markdown",
   "metadata": {},
   "source": [
    "## v1=4 v2=4"
   ]
  },
  {
   "cell_type": "code",
   "execution_count": 6,
   "metadata": {},
   "outputs": [
    {
     "name": "stdout",
     "output_type": "stream",
     "text": [
      "n = 64, iters = 5\n"
     ]
    },
    {
     "name": "stdout",
     "output_type": "stream",
     "text": [
      "n = 128, iters = 5\n"
     ]
    },
    {
     "name": "stdout",
     "output_type": "stream",
     "text": [
      "n = 256, iters = 5\n"
     ]
    },
    {
     "name": "stdout",
     "output_type": "stream",
     "text": [
      "n = 512, iters = 5"
     ]
    },
    {
     "name": "stdout",
     "output_type": "stream",
     "text": [
      "\n",
      "n = 1024, iters = 5"
     ]
    },
    {
     "name": "stdout",
     "output_type": "stream",
     "text": [
      "\n",
      "n = 2048, iters = 5\n"
     ]
    }
   ],
   "source": [
    "for n in nlist\n",
    "    x, xx, xxx , xxxx, iters = vcycle_stokes(n,4,4,1e-8,10,true)\n",
    "    println(\"n = $n, iters = $iters\")\n",
    "end"
   ]
  },
  {
   "cell_type": "code",
   "execution_count": 7,
   "metadata": {},
   "outputs": [
    {
     "name": "stdout",
     "output_type": "stream",
     "text": [
      "Benchmarking for n = 64...\n"
     ]
    },
    {
     "name": "stdout",
     "output_type": "stream",
     "text": [
      "  7.859 ms (3165 allocations: 17.91 MiB)\n",
      "=====================================\n",
      "Benchmarking for n = 128..."
     ]
    },
    {
     "name": "stdout",
     "output_type": "stream",
     "text": [
      "\n",
      "  38.292 ms (3965 allocations: 71.53 MiB)\n",
      "=====================================\n",
      "Benchmarking for n = 256..."
     ]
    },
    {
     "name": "stdout",
     "output_type": "stream",
     "text": [
      "\n",
      "  195.102 ms (4765 allocations: 286.62 MiB)\n",
      "=====================================\n",
      "Benchmarking for n = 512...\n"
     ]
    },
    {
     "name": "stdout",
     "output_type": "stream",
     "text": [
      "  1.720 s (5566 allocations: 1.12 GiB)\n",
      "=====================================\n",
      "Benchmarking for n = 1024..."
     ]
    },
    {
     "name": "stdout",
     "output_type": "stream",
     "text": [
      "\n",
      "  8.433 s (6366 allocations: 4.49 GiB)\n",
      "=====================================\n",
      "Benchmarking for n = 2048...\n"
     ]
    },
    {
     "name": "stdout",
     "output_type": "stream",
     "text": [
      "  37.052 s (7166 allocations: 17.97 GiB)\n",
      "=====================================\n"
     ]
    }
   ],
   "source": [
    "using BenchmarkTools\n",
    "v1 = 4\n",
    "v2 = 4\n",
    "for n in nlist\n",
    "    println(\"Benchmarking for n = $n...\")\n",
    "    @btime vcycle_stokes($n,v1,v2,1e-8,10,true)\n",
    "    println(\"=====================================\")\n",
    "end"
   ]
  }
 ],
 "metadata": {
  "kernelspec": {
   "display_name": "Julia 1.8.5",
   "language": "julia",
   "name": "julia-1.8"
  },
  "language_info": {
   "file_extension": ".jl",
   "mimetype": "application/julia",
   "name": "julia",
   "version": "1.8.5"
  }
 },
 "nbformat": 4,
 "nbformat_minor": 2
}
