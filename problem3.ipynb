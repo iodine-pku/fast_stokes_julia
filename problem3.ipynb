{
 "cells": [
  {
   "cell_type": "code",
   "execution_count": 1,
   "metadata": {},
   "outputs": [
    {
     "data": {
      "text/plain": [
       "inexact_uzawa (generic function with 8 methods)"
      ]
     },
     "metadata": {},
     "output_type": "display_data"
    }
   ],
   "source": [
    "include(\"inexact_uzawa.jl\")"
   ]
  },
  {
   "cell_type": "code",
   "execution_count": 2,
   "metadata": {},
   "outputs": [
    {
     "name": "stdout",
     "output_type": "stream",
     "text": [
      "n = 64, error = 0.0014950791923343852"
     ]
    },
    {
     "name": "stdout",
     "output_type": "stream",
     "text": [
      "\n",
      "n = 128, error = 0.000373629"
     ]
    },
    {
     "name": "stdout",
     "output_type": "stream",
     "text": [
      "0577803989\n",
      "n = 256, error = 9.33984843830547e-5"
     ]
    },
    {
     "name": "stdout",
     "output_type": "stream",
     "text": [
      "\n",
      "n = 512, error = 2.3349130374032106e-5\n"
     ]
    },
    {
     "name": "stdout",
     "output_type": "stream",
     "text": [
      "n = 1024, error = 5.837347868131001e-6"
     ]
    },
    {
     "name": "stdout",
     "output_type": "stream",
     "text": [
      "\n",
      "n = 2048, error = 1.4594628721293133e-6"
     ]
    },
    {
     "name": "stdout",
     "output_type": "stream",
     "text": [
      "\n",
      "[0.0014950791923343852, 0.0003736290577803989, 9.33984843830547e-5, 2.3349130374032106e-5, 5.837347868131001e-6, 1.4594628721293133e-6]\n",
      "[2.0, 2.0, 2.0, 2.0, 2.0, 2.0]\n"
     ]
    }
   ],
   "source": [
    "nlist = [64, 128, 256, 512,1024,2048]\n",
    "errlist = zeros(length(nlist))\n",
    "iterlist = zeros(length(nlist))\n",
    "ct = 1\n",
    "v1 =2\n",
    "v2 =2 \n",
    "tol1 = 1e-8\n",
    "tol2 = 1e-5\n",
    "uzawa_iter = 4\n",
    "pcg_iter = 5\n",
    "vcycle_iter =2 \n",
    "\n",
    "\n",
    "for n in nlist\n",
    "    pde_er,iters,x,xx,xxx = inexact_uzawa(n, v1, v2, tol2, tol1, uzawa_iter, pcg_iter, vcycle_iter,1.0,true)\n",
    "    errlist[ct] = pde_er\n",
    "    iterlist[ct] = iters\n",
    "    println(\"n = \", n, \", error = \", pde_er)\n",
    "    ct += 1\n",
    "end\n",
    "\n",
    "println(errlist)\n",
    "println(iterlist)"
   ]
  },
  {
   "cell_type": "code",
   "execution_count": 18,
   "metadata": {},
   "outputs": [
    {
     "data": {
      "text/plain": [
       "empirical_coverge_order (generic function with 1 method)"
      ]
     },
     "metadata": {},
     "output_type": "display_data"
    }
   ],
   "source": [
    "function empirical_coverge_order(errlist)\n",
    "    # Check if the errlist has fewer than 2 elements\n",
    "    if length(errlist) < 2\n",
    "        error(\"errlist must contain at least two elements\")\n",
    "    end\n",
    "\n",
    "    ratios = Float64[] # Initialize an empty array for ratios\n",
    "    for i in 1:length(errlist)-1\n",
    "        push!(ratios, errlist[i] / errlist[i+1])\n",
    "    end\n",
    "\n",
    "    rmean = sum(ratios)/length(ratios) # Calculate mean of ratios\n",
    "    log2_rmean = log2(rmean) # Calculate base-2 logarithm of the mean\n",
    "\n",
    "    return log2_rmean\n",
    "end"
   ]
  },
  {
   "cell_type": "code",
   "execution_count": 19,
   "metadata": {},
   "outputs": [
    {
     "data": {
      "text/plain": [
       "2.0001137541561724"
      ]
     },
     "metadata": {},
     "output_type": "display_data"
    }
   ],
   "source": [
    "empirical_coverge_order(errlist)"
   ]
  },
  {
   "cell_type": "code",
   "execution_count": 4,
   "metadata": {},
   "outputs": [
    {
     "data": {
      "text/plain": [
       "\"d:\\\\numerical_linear_algebra\\\\final\\\\inexact_uzawa.png\""
      ]
     },
     "metadata": {},
     "output_type": "display_data"
    }
   ],
   "source": [
    "xticks = [64, 128, 256, 512, 1024, 2048]\n",
    "ymin = errlist[1]\n",
    "ymax = errlist[end]\n",
    "\n",
    "using Plots\n",
    "scatter(nlist, errlist, label=\"error\", xlabel=\"n\", ylabel=\"error\", title=\"error vs n (inexact uzawa)\", xscale=:log2, yscale=:log10, grid=true, markersize=4, xticks=xticks)\n",
    "plot!(nlist, errlist, label=\"\", xlabel=\"n\", ylabel=\"error\", xscale=:log2, yscale=:log10, grid=true, linewidth=2, xticks=xticks)\n",
    "savefig(\"inexact_uzawa.png\")"
   ]
  },
  {
   "cell_type": "code",
   "execution_count": 22,
   "metadata": {},
   "outputs": [
    {
     "name": "stdout",
     "output_type": "stream",
     "text": [
      "Benchmarking for n = 64..."
     ]
    },
    {
     "name": "stdout",
     "output_type": "stream",
     "text": [
      "\n",
      "  8.565 ms (3124 allocations: 24.84 MiB)\n",
      "====================================\n",
      "Benchmarking for n = 128...\n"
     ]
    },
    {
     "name": "stdout",
     "output_type": "stream",
     "text": [
      "  52.303 ms (3604 allocations: 99.59 MiB)\n",
      "====================================\n",
      "Benchmarking for n = 256..."
     ]
    },
    {
     "name": "stdout",
     "output_type": "stream",
     "text": [
      "\n",
      "  248.771 ms (4084 allocations: 399.44 MiB)\n",
      "====================================\n",
      "Benchmarking for n = 512..."
     ]
    },
    {
     "name": "stdout",
     "output_type": "stream",
     "text": [
      "\n",
      "  1.750 s (4564 allocations: 1.56 GiB)\n",
      "====================================\n",
      "Benchmarking for n = 1024..."
     ]
    },
    {
     "name": "stdout",
     "output_type": "stream",
     "text": [
      "\n",
      "  8.253 s (5044 allocations: 6.26 GiB)\n",
      "====================================\n",
      "Benchmarking for n = 2048..."
     ]
    },
    {
     "name": "stdout",
     "output_type": "stream",
     "text": [
      "\n",
      "  36.597 s (5524 allocations: 25.05 GiB)\n",
      "====================================\n"
     ]
    }
   ],
   "source": [
    "using BenchmarkTools\n",
    "for n in nlist\n",
    "    println(\"Benchmarking for n = $n...\")\n",
    "    @btime inexact_uzawa($n, $v1, $v2, $tol2, $tol1, $uzawa_iter, $pcg_iter, $vcycle_iter,1.0,true)\n",
    "    println(\"====================================\")\n",
    "end"
   ]
  }
 ],
 "metadata": {
  "kernelspec": {
   "display_name": "Julia 1.8.5",
   "language": "julia",
   "name": "julia-1.8"
  },
  "language_info": {
   "file_extension": ".jl",
   "mimetype": "application/julia",
   "name": "julia",
   "version": "1.8.5"
  }
 },
 "nbformat": 4,
 "nbformat_minor": 2
}
